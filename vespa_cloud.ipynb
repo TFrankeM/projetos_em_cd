{
 "cells": [
  {
   "cell_type": "code",
   "execution_count": 1,
   "id": "c55aaa88",
   "metadata": {},
   "outputs": [],
   "source": [
    "# Replace with your tenant name from the Vespa Cloud Console\n",
    "TENANT_NAME = \"projetos-cd-msmarco\"\n",
    "# Replace with your application name (does not need to exist yet)\n",
    "APP_NAME = \"hybridsearch\""
   ]
  },
  {
   "cell_type": "code",
   "execution_count": 2,
   "id": "1b29238d",
   "metadata": {},
   "outputs": [],
   "source": [
    "from vespa.package import (\n",
    "    ApplicationPackage,\n",
    "    Field,\n",
    "    Schema,\n",
    "    Document,\n",
    "    HNSW,\n",
    "    RankProfile,\n",
    "    Component,\n",
    "    Parameter,\n",
    "    FieldSet,\n",
    "    GlobalPhaseRanking,\n",
    "    Function,\n",
    ")\n",
    "\n",
    "package = ApplicationPackage(\n",
    "    name=APP_NAME,\n",
    "    schema=[\n",
    "        Schema(\n",
    "            name=\"doc\",\n",
    "            document=Document(\n",
    "                fields=[\n",
    "                    Field(name=\"id\", type=\"string\", indexing=[\"summary\"]),\n",
    "                    Field(\n",
    "                        name=\"body\",\n",
    "                        type=\"string\",\n",
    "                        indexing=[\"index\", \"summary\"],\n",
    "                        index=\"enable-bm25\",\n",
    "                        bolding=True,\n",
    "                    ),\n",
    "                    Field(\n",
    "                        name=\"embedding\",\n",
    "                        type=\"tensor(x[384])\",\n",
    "                        indexing=[\n",
    "                            'input body',\n",
    "                            \"embed\",\n",
    "                            \"index\",\n",
    "                            \"attribute\",\n",
    "                        ],\n",
    "                        ann=HNSW(distance_metric=\"angular\"),\n",
    "                        is_document_field=False,\n",
    "                    ),\n",
    "                ]\n",
    "            ),\n",
    "            fieldsets=[FieldSet(name=\"default\", fields=[\"body\"])],\n",
    "            rank_profiles=[\n",
    "                RankProfile(\n",
    "                    name=\"bm25\",\n",
    "                    inputs=[(\"query(q)\", \"tensor(x[384])\")],\n",
    "                    functions=[\n",
    "                        Function(name=\"bm25sum\", expression=\"bm25(body)\")\n",
    "                    ],\n",
    "                    first_phase=\"bm25sum\",\n",
    "                ),\n",
    "                RankProfile(\n",
    "                    name=\"semantic\",\n",
    "                    inputs=[(\"query(q)\", \"tensor(x[384])\")],\n",
    "                    first_phase=\"closeness(field, embedding)\",\n",
    "                ),\n",
    "                RankProfile(\n",
    "                    name=\"fusion\",\n",
    "                    inherits=\"bm25\",\n",
    "                    inputs=[(\"query(q)\", \"tensor(x[384])\")],\n",
    "                    first_phase=\"closeness(field, embedding)\",\n",
    "                    global_phase=GlobalPhaseRanking(\n",
    "                        expression=\"reciprocal_rank_fusion(bm25sum, closeness(field, embedding))\",\n",
    "                        rerank_count=1000,\n",
    "                    ),\n",
    "                ),\n",
    "            ],\n",
    "        )\n",
    "    ],\n",
    "    components=[\n",
    "        Component(\n",
    "            id=\"e5\",\n",
    "            type=\"hugging-face-embedder\",\n",
    "            parameters=[\n",
    "                Parameter(\n",
    "                    \"transformer-model\",\n",
    "                    {\n",
    "                        \"url\": \"https://github.com/vespa-engine/sample-apps/raw/master/examples/model-exporting/model/e5-small-v2-int8.onnx\"\n",
    "                    },\n",
    "                ),\n",
    "                Parameter(\n",
    "                    \"tokenizer-model\",\n",
    "                    {\n",
    "                        \"url\": \"https://raw.githubusercontent.com/vespa-engine/sample-apps/master/examples/model-exporting/model/tokenizer.json\"\n",
    "                    },\n",
    "                ),\n",
    "            ],\n",
    "        )\n",
    "    ],\n",
    ")"
   ]
  },
  {
   "cell_type": "code",
   "execution_count": 4,
   "id": "d2297267",
   "metadata": {},
   "outputs": [
    {
     "name": "stdout",
     "output_type": "stream",
     "text": [
      "Setting application...\n",
      "Running: vespa config set application projetos-cd-msmarco.hybridsearch.default\n",
      "Setting target cloud...\n",
      "Running: vespa config set target cloud\n",
      "\n",
      "No api-key found for control plane access. Using access token.\n",
      "Checking for access token in auth.json...\n",
      "Successfully obtained access token for control plane access.\n"
     ]
    }
   ],
   "source": [
    "from vespa.deployment import VespaCloud\n",
    "\n",
    "vespa_cloud = VespaCloud(\n",
    "    tenant=TENANT_NAME,\n",
    "    application=APP_NAME,\n",
    "    application_package=package,\n",
    ")"
   ]
  },
  {
   "cell_type": "code",
   "execution_count": 5,
   "id": "0f56266f",
   "metadata": {},
   "outputs": [
    {
     "name": "stdout",
     "output_type": "stream",
     "text": [
      "Only region: aws-us-east-1c available in dev environment.\n",
      "Found mtls endpoint for hybridsearch_container\n",
      "URL: https://e9584422.d28ec201.z.vespa-app.cloud/\n",
      "Application is up!\n"
     ]
    }
   ],
   "source": [
    "# Usa .deploy() na primeira vez e .get_application() nas próximas vezes\n",
    "app = vespa_cloud.get_application()"
   ]
  },
  {
   "cell_type": "code",
   "execution_count": 5,
   "id": "ee65b99a",
   "metadata": {},
   "outputs": [
    {
     "name": "stdout",
     "output_type": "stream",
     "text": [
      "Found mtls endpoint for hybridsearch_container\n",
      "URL: https://e9584422.d28ec201.z.vespa-app.cloud/\n"
     ]
    },
    {
     "data": {
      "text/plain": [
       "'https://e9584422.d28ec201.z.vespa-app.cloud/'"
      ]
     },
     "execution_count": 5,
     "metadata": {},
     "output_type": "execute_result"
    }
   ],
   "source": [
    "endpoint = vespa_cloud.get_mtls_endpoint()\n",
    "endpoint"
   ]
  },
  {
   "cell_type": "code",
   "execution_count": 6,
   "id": "627462c8",
   "metadata": {},
   "outputs": [],
   "source": [
    "import random\n",
    "import ir_datasets\n",
    "import pickle\n",
    "import re"
   ]
  },
  {
   "cell_type": "code",
   "execution_count": 7,
   "id": "6bb88854",
   "metadata": {},
   "outputs": [],
   "source": [
    "random.seed(42)\n",
    "\n",
    "def load_dataset(input_file):\n",
    "    with open(input_file, 'rb') as f:\n",
    "        return pickle.load(f)\n",
    "\n",
    "data_set = \"subset_msmarco_train_0/subset_msmarco_train_0.01_99.pkl\"\n",
    "\n",
    "data = load_dataset(data_set)\n",
    "queries = data[\"queries\"]\n",
    "documents = data[\"docs\"]\n",
    "\n",
    "# Split the queries (queries is a dictionary of {query_id: query_object})\n",
    "query_ids = list(queries.keys())  # List of query IDs\n",
    "\n",
    "# Shuffle query IDs to ensure a random split\n",
    "random.shuffle(query_ids)\n",
    "\n",
    "# Split into 80% for training, 20% for validation\n",
    "split_ratio = 0.8\n",
    "train_query_ids = query_ids[:int(len(query_ids) * split_ratio)]\n",
    "test_query_ids = query_ids[int(len(query_ids) * split_ratio):]\n",
    "\n",
    "train_queries = {qid: queries[qid] for qid in train_query_ids}\n",
    "test_queries = {qid: queries[qid] for qid in test_query_ids}"
   ]
  },
  {
   "cell_type": "code",
   "execution_count": 8,
   "id": "6c55d999",
   "metadata": {},
   "outputs": [],
   "source": [
    "def remove_control_characters(text):\n",
    "    # Remove control characters using regex\n",
    "    return re.sub(r'[\\x00-\\x1F\\x7F-\\x9F]', '', text)"
   ]
  },
  {
   "cell_type": "code",
   "execution_count": 9,
   "id": "0e6340b1",
   "metadata": {},
   "outputs": [],
   "source": [
    "vespa_feed = [\n",
    "    {\"id\": doc.doc_id, \"fields\": {\"body\": remove_control_characters(doc.text), \"id\": doc.doc_id}}\n",
    "    for doc in documents.values()\n",
    "]"
   ]
  },
  {
   "cell_type": "code",
   "execution_count": 10,
   "id": "864d2bc2",
   "metadata": {},
   "outputs": [],
   "source": [
    "vespa_feed = vespa_feed[151000:]"
   ]
  },
  {
   "cell_type": "code",
   "execution_count": 11,
   "id": "4bbf39de",
   "metadata": {},
   "outputs": [],
   "source": [
    "from vespa.io import VespaResponse, VespaQueryResponse\n",
    "\n",
    "\n",
    "def callback(response: VespaResponse, id: str):\n",
    "    if not response.is_successful():\n",
    "        print(f\"Error when feeding document {id}: {response.get_json()}\")\n",
    "\n",
    "\n",
    "app.feed_iterable(vespa_feed, schema=\"doc\", namespace=\"tutorial\", callback=callback)"
   ]
  },
  {
   "cell_type": "code",
   "execution_count": 12,
   "id": "524bf358",
   "metadata": {},
   "outputs": [
    {
     "name": "stdout",
     "output_type": "stream",
     "text": [
      "Results for bm25:\n",
      "Primary metric: ndcg@10\n",
      "All results: {'accuracy@10': 0.7261261261261261, 'precision@100': 0.009045045045045046, 'recall@100': 0.8675675675675676, 'mrr@10': 0.5284355784355782, 'ndcg@10': 0.5695866399682291, 'map@100': 0.5286580403643053, 'searchtime_avg': 0.030329729729729735, 'searchtime_q50': 0.03, 'searchtime_q90': 0.051000000000000004, 'searchtime_q95': 0.056}\n",
      "Results for semantic:\n",
      "Primary metric: ndcg@10\n",
      "All results: {'accuracy@10': 0.8738738738738738, 'precision@100': 0.009729729729729731, 'recall@100': 0.9333333333333333, 'mrr@10': 0.715070785070785, 'ndcg@10': 0.7487514746276558, 'map@100': 0.7112547552156819, 'searchtime_avg': 0.10021261261261262, 'searchtime_q50': 0.106, 'searchtime_q90': 0.122, 'searchtime_q95': 0.126}\n",
      "Results for fusion:\n",
      "Primary metric: ndcg@10\n",
      "All results: {'accuracy@10': 0.8738738738738738, 'precision@100': 0.00990990990990991, 'recall@100': 0.9504504504504504, 'mrr@10': 0.6935242385242383, 'ndcg@10': 0.7312417771698385, 'map@100': 0.6890821903343773, 'searchtime_avg': 0.1573153153153153, 'searchtime_q50': 0.161, 'searchtime_q90': 0.19160000000000002, 'searchtime_q95': 0.20029999999999998}\n"
     ]
    }
   ],
   "source": [
    "from vespa.evaluation import VespaEvaluator\n",
    "\n",
    "test_queries_dict = {\n",
    "    q.query_id: q.text\n",
    "    for q in test_queries.values()\n",
    "}\n",
    "\n",
    "relevant_docs = dict()\n",
    "for qrel in data[\"qrels\"]:\n",
    "    relevant_docs[qrel.query_id] = relevant_docs.get(qrel.query_id, set())\n",
    "    relevant_docs[qrel.query_id].add(qrel.doc_id)\n",
    "\n",
    "def query_fn_lexical(query_text: str, top_k: int) -> dict:\n",
    "    return {\n",
    "        \"yql\": f\"select * from sources * where userQuery()\",\n",
    "        \"query\": query_text,\n",
    "        \"hits\": top_k,\n",
    "        \"ranking\": \"bm25\",\n",
    "    }\n",
    "\n",
    "def query_fn_semantic(query_text: str, top_k: int) -> dict:\n",
    "    return {\n",
    "        \"yql\": \"select * from sources * where ({targetHits:1000}nearestNeighbor(embedding,q))\",\n",
    "        \"query\": query_text,\n",
    "        \"hits\": top_k,\n",
    "        \"ranking\": \"semantic\",\n",
    "        \"input.query(q)\": f\"embed({query_text})\",\n",
    "    }\n",
    "\n",
    "def query_fn_fusion(query_text: str, top_k: int) -> dict:\n",
    "    return {\n",
    "        \"yql\": \"select * from sources * where userQuery() or ({targetHits:1000}nearestNeighbor(embedding,q))\",\n",
    "        \"query\": query_text,\n",
    "        \"hits\": top_k,\n",
    "        \"ranking\": \"fusion\",\n",
    "        \"input.query(q)\": f\"embed({query_text})\",\n",
    "    }\n",
    "\n",
    "query_fn_for_ranking = {\n",
    "    \"bm25\": query_fn_lexical,\n",
    "    \"semantic\": query_fn_semantic,\n",
    "    \"fusion\": query_fn_fusion,\n",
    "}\n",
    "\n",
    "for ranking in [\"bm25\", \"semantic\", \"fusion\"]:\n",
    "    query_fn = query_fn_for_ranking[ranking]\n",
    "    evaluator = VespaEvaluator(\n",
    "        queries=test_queries_dict,\n",
    "        relevant_docs=relevant_docs,\n",
    "        vespa_query_fn=query_fn,\n",
    "        app=app,\n",
    "        name=f\"test-run-{ranking}\",\n",
    "        accuracy_at_k=[10],\n",
    "        precision_recall_at_k=[100],\n",
    "        mrr_at_k=[10],\n",
    "        ndcg_at_k=[10],\n",
    "        write_csv=True\n",
    "    )\n",
    "    \n",
    "    results = evaluator.run()\n",
    "    print(f\"Results for {ranking}:\")\n",
    "    print(\"Primary metric:\", evaluator.primary_metric)\n",
    "    print(\"All results:\", results)"
   ]
  }
 ],
 "metadata": {
  "kernelspec": {
   "display_name": ".venv",
   "language": "python",
   "name": "python3"
  },
  "language_info": {
   "codemirror_mode": {
    "name": "ipython",
    "version": 3
   },
   "file_extension": ".py",
   "mimetype": "text/x-python",
   "name": "python",
   "nbconvert_exporter": "python",
   "pygments_lexer": "ipython3",
   "version": "3.12.9"
  }
 },
 "nbformat": 4,
 "nbformat_minor": 5
}

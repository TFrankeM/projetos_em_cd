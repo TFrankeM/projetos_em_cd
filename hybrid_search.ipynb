{
 "cells": [
  {
   "cell_type": "code",
   "execution_count": 1,
   "id": "0dbeec59",
   "metadata": {},
   "outputs": [
    {
     "name": "stdout",
     "output_type": "stream",
     "text": [
      "Requirement already satisfied: pyvespa in /usr/local/python/3.12.1/lib/python3.12/site-packages (0.55.0)\n",
      "Requirement already satisfied: ir-datasets in /usr/local/python/3.12.1/lib/python3.12/site-packages (0.5.10)\n",
      "Requirement already satisfied: requests in /home/codespace/.local/lib/python3.12/site-packages (from pyvespa) (2.32.3)\n",
      "Requirement already satisfied: requests_toolbelt in /usr/local/python/3.12.1/lib/python3.12/site-packages (from pyvespa) (1.0.0)\n",
      "Requirement already satisfied: docker in /usr/local/python/3.12.1/lib/python3.12/site-packages (from pyvespa) (7.1.0)\n",
      "Requirement already satisfied: jinja2 in /home/codespace/.local/lib/python3.12/site-packages (from pyvespa) (3.1.6)\n",
      "Requirement already satisfied: cryptography in /usr/local/python/3.12.1/lib/python3.12/site-packages (from pyvespa) (45.0.2)\n",
      "Requirement already satisfied: aiohttp in /usr/local/python/3.12.1/lib/python3.12/site-packages (from pyvespa) (3.11.18)\n",
      "Requirement already satisfied: httpx[http2] in /home/codespace/.local/lib/python3.12/site-packages (from pyvespa) (0.28.1)\n",
      "Requirement already satisfied: tenacity>=8.4.1 in /usr/local/python/3.12.1/lib/python3.12/site-packages (from pyvespa) (9.1.2)\n",
      "Requirement already satisfied: typing_extensions in /home/codespace/.local/lib/python3.12/site-packages (from pyvespa) (4.12.2)\n",
      "Requirement already satisfied: python-dateutil in /home/codespace/.local/lib/python3.12/site-packages (from pyvespa) (2.9.0.post0)\n",
      "Requirement already satisfied: fastcore>=1.7.8 in /usr/local/python/3.12.1/lib/python3.12/site-packages (from pyvespa) (1.8.2)\n",
      "Requirement already satisfied: lxml in /usr/local/python/3.12.1/lib/python3.12/site-packages (from pyvespa) (5.4.0)\n",
      "Requirement already satisfied: beautifulsoup4>=4.4.1 in /home/codespace/.local/lib/python3.12/site-packages (from ir-datasets) (4.13.3)\n",
      "Requirement already satisfied: inscriptis>=2.2.0 in /usr/local/python/3.12.1/lib/python3.12/site-packages (from ir-datasets) (2.6.0)\n",
      "Requirement already satisfied: numpy>=1.18.1 in /home/codespace/.local/lib/python3.12/site-packages (from ir-datasets) (2.2.4)\n",
      "Requirement already satisfied: pyyaml>=5.3.1 in /home/codespace/.local/lib/python3.12/site-packages (from ir-datasets) (6.0.2)\n",
      "Requirement already satisfied: tqdm>=4.38.0 in /usr/local/python/3.12.1/lib/python3.12/site-packages (from ir-datasets) (4.67.1)\n",
      "Requirement already satisfied: trec-car-tools>=2.5.4 in /usr/local/python/3.12.1/lib/python3.12/site-packages (from ir-datasets) (2.6)\n",
      "Requirement already satisfied: lz4>=3.1.10 in /usr/local/python/3.12.1/lib/python3.12/site-packages (from ir-datasets) (4.4.4)\n",
      "Requirement already satisfied: warc3-wet>=0.2.3 in /usr/local/python/3.12.1/lib/python3.12/site-packages (from ir-datasets) (0.2.5)\n",
      "Requirement already satisfied: warc3-wet-clueweb09>=0.2.5 in /usr/local/python/3.12.1/lib/python3.12/site-packages (from ir-datasets) (0.2.5)\n",
      "Requirement already satisfied: zlib-state>=0.1.3 in /usr/local/python/3.12.1/lib/python3.12/site-packages (from ir-datasets) (0.1.9)\n",
      "Requirement already satisfied: ijson>=3.1.3 in /usr/local/python/3.12.1/lib/python3.12/site-packages (from ir-datasets) (3.4.0)\n",
      "Requirement already satisfied: unlzw3>=0.2.1 in /usr/local/python/3.12.1/lib/python3.12/site-packages (from ir-datasets) (0.2.3)\n",
      "Requirement already satisfied: pyarrow>=16.1.0 in /usr/local/python/3.12.1/lib/python3.12/site-packages (from ir-datasets) (20.0.0)\n",
      "Requirement already satisfied: soupsieve>1.2 in /home/codespace/.local/lib/python3.12/site-packages (from beautifulsoup4>=4.4.1->ir-datasets) (2.6)\n",
      "Requirement already satisfied: packaging in /home/codespace/.local/lib/python3.12/site-packages (from fastcore>=1.7.8->pyvespa) (24.2)\n",
      "Requirement already satisfied: charset-normalizer<4,>=2 in /home/codespace/.local/lib/python3.12/site-packages (from requests->pyvespa) (3.4.1)\n",
      "Requirement already satisfied: idna<4,>=2.5 in /home/codespace/.local/lib/python3.12/site-packages (from requests->pyvespa) (3.10)\n",
      "Requirement already satisfied: urllib3<3,>=1.21.1 in /home/codespace/.local/lib/python3.12/site-packages (from requests->pyvespa) (2.3.0)\n",
      "Requirement already satisfied: certifi>=2017.4.17 in /home/codespace/.local/lib/python3.12/site-packages (from requests->pyvespa) (2025.1.31)\n",
      "Requirement already satisfied: cbor>=1.0.0 in /usr/local/python/3.12.1/lib/python3.12/site-packages (from trec-car-tools>=2.5.4->ir-datasets) (1.0.0)\n",
      "Requirement already satisfied: aiohappyeyeballs>=2.3.0 in /usr/local/python/3.12.1/lib/python3.12/site-packages (from aiohttp->pyvespa) (2.6.1)\n",
      "Requirement already satisfied: aiosignal>=1.1.2 in /usr/local/python/3.12.1/lib/python3.12/site-packages (from aiohttp->pyvespa) (1.3.2)\n",
      "Requirement already satisfied: attrs>=17.3.0 in /home/codespace/.local/lib/python3.12/site-packages (from aiohttp->pyvespa) (25.3.0)\n",
      "Requirement already satisfied: frozenlist>=1.1.1 in /usr/local/python/3.12.1/lib/python3.12/site-packages (from aiohttp->pyvespa) (1.6.0)\n",
      "Requirement already satisfied: multidict<7.0,>=4.5 in /usr/local/python/3.12.1/lib/python3.12/site-packages (from aiohttp->pyvespa) (6.4.3)\n",
      "Requirement already satisfied: propcache>=0.2.0 in /usr/local/python/3.12.1/lib/python3.12/site-packages (from aiohttp->pyvespa) (0.3.1)\n",
      "Requirement already satisfied: yarl<2.0,>=1.17.0 in /usr/local/python/3.12.1/lib/python3.12/site-packages (from aiohttp->pyvespa) (1.20.0)\n",
      "Requirement already satisfied: cffi>=1.14 in /home/codespace/.local/lib/python3.12/site-packages (from cryptography->pyvespa) (1.17.1)\n",
      "Requirement already satisfied: anyio in /home/codespace/.local/lib/python3.12/site-packages (from httpx[http2]->pyvespa) (4.9.0)\n",
      "Requirement already satisfied: httpcore==1.* in /home/codespace/.local/lib/python3.12/site-packages (from httpx[http2]->pyvespa) (1.0.7)\n",
      "Requirement already satisfied: h2<5,>=3 in /usr/local/python/3.12.1/lib/python3.12/site-packages (from httpx[http2]->pyvespa) (4.2.0)\n",
      "Requirement already satisfied: h11<0.15,>=0.13 in /home/codespace/.local/lib/python3.12/site-packages (from httpcore==1.*->httpx[http2]->pyvespa) (0.14.0)\n",
      "Requirement already satisfied: MarkupSafe>=2.0 in /home/codespace/.local/lib/python3.12/site-packages (from jinja2->pyvespa) (3.0.2)\n",
      "Requirement already satisfied: six>=1.5 in /home/codespace/.local/lib/python3.12/site-packages (from python-dateutil->pyvespa) (1.17.0)\n",
      "Requirement already satisfied: pycparser in /home/codespace/.local/lib/python3.12/site-packages (from cffi>=1.14->cryptography->pyvespa) (2.22)\n",
      "Requirement already satisfied: hyperframe<7,>=6.1 in /usr/local/python/3.12.1/lib/python3.12/site-packages (from h2<5,>=3->httpx[http2]->pyvespa) (6.1.0)\n",
      "Requirement already satisfied: hpack<5,>=4.1 in /usr/local/python/3.12.1/lib/python3.12/site-packages (from h2<5,>=3->httpx[http2]->pyvespa) (4.1.0)\n",
      "Requirement already satisfied: sniffio>=1.1 in /home/codespace/.local/lib/python3.12/site-packages (from anyio->httpx[http2]->pyvespa) (1.3.1)\n",
      "\n",
      "\u001b[1m[\u001b[0m\u001b[34;49mnotice\u001b[0m\u001b[1;39;49m]\u001b[0m\u001b[39;49m A new release of pip is available: \u001b[0m\u001b[31;49m25.0.1\u001b[0m\u001b[39;49m -> \u001b[0m\u001b[32;49m25.1.1\u001b[0m\n",
      "\u001b[1m[\u001b[0m\u001b[34;49mnotice\u001b[0m\u001b[1;39;49m]\u001b[0m\u001b[39;49m To update, run: \u001b[0m\u001b[32;49mpython3 -m pip install --upgrade pip\u001b[0m\n",
      " Total Memory: 15.62GiB\n"
     ]
    }
   ],
   "source": [
    "!pip3 install pyvespa ir-datasets\n",
    "!docker info | grep \"Total Memory\""
   ]
  },
  {
   "cell_type": "markdown",
   "id": "f019966f",
   "metadata": {},
   "source": [
    "Listar containers"
   ]
  },
  {
   "cell_type": "code",
   "execution_count": 60,
   "id": "a4776531",
   "metadata": {},
   "outputs": [
    {
     "name": "stdout",
     "output_type": "stream",
     "text": [
      "CONTAINER ID   IMAGE     COMMAND   CREATED   STATUS    PORTS     NAMES\n"
     ]
    }
   ],
   "source": [
    "!docker ps -a"
   ]
  },
  {
   "cell_type": "markdown",
   "id": "0be43408",
   "metadata": {},
   "source": [
    "Para e remove todos containers"
   ]
  },
  {
   "cell_type": "code",
   "execution_count": 4,
   "id": "e6244c66",
   "metadata": {},
   "outputs": [
    {
     "name": "stdout",
     "output_type": "stream",
     "text": [
      "22edfdadc311\n",
      "22edfdadc311\n"
     ]
    }
   ],
   "source": [
    "!docker stop $(docker ps -aq)\n",
    "!docker rm $(docker ps -aq)"
   ]
  },
  {
   "cell_type": "code",
   "execution_count": 6,
   "id": "12eee36c",
   "metadata": {},
   "outputs": [
    {
     "data": {
      "text/plain": [
       "'/home/codespace/.python/current/bin/python3'"
      ]
     },
     "execution_count": 6,
     "metadata": {},
     "output_type": "execute_result"
    }
   ],
   "source": [
    "import sys\n",
    "import random\n",
    "import pickle\n",
    "import ir_datasets\n",
    "import re\n",
    "sys.executable"
   ]
  },
  {
   "cell_type": "code",
   "execution_count": 7,
   "id": "623fffd5",
   "metadata": {},
   "outputs": [],
   "source": [
    "from vespa.package import (\n",
    "    ApplicationPackage,\n",
    "    Field,\n",
    "    Schema,\n",
    "    Document,\n",
    "    HNSW,\n",
    "    RankProfile,\n",
    "    Component,\n",
    "    Parameter,\n",
    "    FieldSet,\n",
    "    GlobalPhaseRanking,\n",
    "    Function,\n",
    ")\n",
    "\n",
    "package = ApplicationPackage(\n",
    "    name=\"hybridsearch\",\n",
    "    schema=[\n",
    "        Schema(\n",
    "            name=\"doc\",\n",
    "            document=Document(\n",
    "                fields=[\n",
    "                    Field(name=\"id\", type=\"string\", indexing=[\"summary\"]),\n",
    "                    Field(\n",
    "                        name=\"body\",\n",
    "                        type=\"string\",\n",
    "                        indexing=[\"index\", \"summary\"],\n",
    "                        index=\"enable-bm25\",\n",
    "                        bolding=True,\n",
    "                    ),\n",
    "                    Field(\n",
    "                        name=\"embedding\",\n",
    "                        type=\"tensor(x[384])\",\n",
    "                        indexing=[\n",
    "                            'input body',\n",
    "                            \"embed\",\n",
    "                            \"index\",\n",
    "                            \"attribute\",\n",
    "                        ],\n",
    "                        ann=HNSW(distance_metric=\"angular\"),\n",
    "                        is_document_field=False,\n",
    "                    ),\n",
    "                ]\n",
    "            ),\n",
    "            fieldsets=[FieldSet(name=\"default\", fields=[\"body\"])],\n",
    "            rank_profiles=[\n",
    "                RankProfile(\n",
    "                    name=\"bm25\",\n",
    "                    inputs=[(\"query(q)\", \"tensor(x[384])\")],\n",
    "                    functions=[\n",
    "                        Function(name=\"bm25sum\", expression=\"bm25(body)\")\n",
    "                    ],\n",
    "                    first_phase=\"bm25sum\",\n",
    "                ),\n",
    "                RankProfile(\n",
    "                    name=\"semantic\",\n",
    "                    inputs=[(\"query(q)\", \"tensor(x[384])\")],\n",
    "                    first_phase=\"closeness(field, embedding)\",\n",
    "                ),\n",
    "                RankProfile(\n",
    "                    name=\"fusion\",\n",
    "                    inherits=\"bm25\",\n",
    "                    inputs=[(\"query(q)\", \"tensor(x[384])\")],\n",
    "                    first_phase=\"closeness(field, embedding)\",\n",
    "                    global_phase=GlobalPhaseRanking(\n",
    "                        expression=\"reciprocal_rank_fusion(bm25sum, closeness(field, embedding))\",\n",
    "                        rerank_count=1000,\n",
    "                    ),\n",
    "                ),\n",
    "            ],\n",
    "        )\n",
    "    ],\n",
    "    components=[\n",
    "        Component(\n",
    "            id=\"e5\",\n",
    "            type=\"hugging-face-embedder\",\n",
    "            parameters=[\n",
    "                Parameter(\n",
    "                    \"transformer-model\",\n",
    "                    {\n",
    "                        \"url\": \"https://github.com/vespa-engine/sample-apps/raw/master/examples/model-exporting/model/e5-small-v2-int8.onnx\"\n",
    "                    },\n",
    "                ),\n",
    "                Parameter(\n",
    "                    \"tokenizer-model\",\n",
    "                    {\n",
    "                        \"url\": \"https://raw.githubusercontent.com/vespa-engine/sample-apps/master/examples/model-exporting/model/tokenizer.json\"\n",
    "                    },\n",
    "                ),\n",
    "            ],\n",
    "        )\n",
    "    ],\n",
    ")"
   ]
  },
  {
   "cell_type": "code",
   "execution_count": 8,
   "id": "81f5541e",
   "metadata": {},
   "outputs": [
    {
     "name": "stdout",
     "output_type": "stream",
     "text": [
      "Waiting for configuration server, 0/60 seconds...\n",
      "Waiting for configuration server, 5/60 seconds...\n",
      "Waiting for configuration server, 10/60 seconds...\n",
      "Waiting for application to come up, 0/300 seconds.\n",
      "Waiting for application to come up, 5/300 seconds.\n",
      "Waiting for application to come up, 10/300 seconds.\n",
      "Waiting for application to come up, 15/300 seconds.\n",
      "Waiting for application to come up, 20/300 seconds.\n",
      "Waiting for application to come up, 25/300 seconds.\n",
      "Waiting for application to come up, 30/300 seconds.\n",
      "Application is up!\n",
      "Finished deployment.\n"
     ]
    }
   ],
   "source": [
    "from vespa.deployment import VespaDocker\n",
    "\n",
    "vespa_docker = VespaDocker()\n",
    "app = vespa_docker.deploy(application_package=package)"
   ]
  },
  {
   "cell_type": "code",
   "execution_count": 9,
   "id": "62cbd6d7",
   "metadata": {},
   "outputs": [],
   "source": [
    "random.seed(42)\n",
    "\n",
    "def load_dataset(input_file):\n",
    "    with open(input_file, 'rb') as f:\n",
    "        return pickle.load(f)\n",
    "\n",
    "data_set = \"subset_msmarco_train_0/subset_msmarco_train_0.01_99.pkl\"\n",
    "\n",
    "data = load_dataset(data_set)\n",
    "queries = data[\"queries\"]\n",
    "documents = data[\"docs\"]\n",
    "\n",
    "# Split the queries (queries is a dictionary of {query_id: query_object})\n",
    "query_ids = list(queries.keys())  # List of query IDs\n",
    "\n",
    "# Shuffle query IDs to ensure a random split\n",
    "random.shuffle(query_ids)\n",
    "\n",
    "# Split into 80% for training, 20% for validation\n",
    "split_ratio = 0.8\n",
    "train_query_ids = query_ids[:int(len(query_ids) * split_ratio)]\n",
    "test_query_ids = query_ids[int(len(query_ids) * split_ratio):]\n",
    "\n",
    "train_queries = {qid: queries[qid] for qid in train_query_ids}\n",
    "test_queries = {qid: queries[qid] for qid in test_query_ids}"
   ]
  },
  {
   "cell_type": "code",
   "execution_count": 10,
   "id": "75926b90",
   "metadata": {},
   "outputs": [],
   "source": [
    "def remove_control_characters(text):\n",
    "    # Remove control characters using regex\n",
    "    return re.sub(r'[\\x00-\\x1F\\x7F-\\x9F]', '', text)"
   ]
  },
  {
   "cell_type": "code",
   "execution_count": 11,
   "id": "92734cef",
   "metadata": {},
   "outputs": [],
   "source": [
    "vespa_feed = [\n",
    "    {\"id\": doc.doc_id, \"fields\": {\"body\": remove_control_characters(doc.text), \"id\": doc.doc_id}}\n",
    "    for doc in documents.values()\n",
    "]"
   ]
  },
  {
   "cell_type": "code",
   "execution_count": 12,
   "id": "eeb15d94",
   "metadata": {},
   "outputs": [],
   "source": [
    "# use only 2% of the documents for the demo\n",
    "vespa_feed = vespa_feed[:int(len(vespa_feed) * 0.02)]"
   ]
  },
  {
   "cell_type": "code",
   "execution_count": 13,
   "id": "d20cef71",
   "metadata": {},
   "outputs": [],
   "source": [
    "from vespa.io import VespaResponse, VespaQueryResponse\n",
    "\n",
    "\n",
    "def callback(response: VespaResponse, id: str):\n",
    "    if not response.is_successful():\n",
    "        print(f\"Error when feeding document {id}: {response.get_json()}\")\n",
    "\n",
    "\n",
    "app.feed_iterable(vespa_feed, schema=\"doc\", namespace=\"tutorial\", callback=callback)"
   ]
  },
  {
   "cell_type": "code",
   "execution_count": 14,
   "id": "aab1ff4a",
   "metadata": {},
   "outputs": [],
   "source": [
    "import pandas as pd\n",
    "\n",
    "\n",
    "def display_hits_as_df(response: VespaQueryResponse, fields) -> pd.DataFrame:\n",
    "    records = []\n",
    "    for hit in response.hits:\n",
    "        record = {}\n",
    "        for field in fields:\n",
    "            record[field] = hit[\"fields\"][field]\n",
    "        records.append(record)\n",
    "    return pd.DataFrame(records)"
   ]
  },
  {
   "cell_type": "code",
   "execution_count": 56,
   "id": "e7132bd4",
   "metadata": {},
   "outputs": [
    {
     "name": "stdout",
     "output_type": "stream",
     "text": [
      "Results for bm25:\n",
      "Primary metric: ndcg@10\n",
      "All results: {'accuracy@1': 0.7891891891891892, 'accuracy@3': 0.8702702702702703, 'accuracy@5': 0.8864864864864865, 'accuracy@10': 0.9099099099099099, 'precision@100': 0.01001801801801802, 'recall@100': 0.9621621621621622, 'mrr@10': 0.8333912483912482, 'ndcg@10': 0.8485127241672076, 'map@100': 0.8301450404305764, 'searchtime_avg': 0.11056216216216216, 'searchtime_q50': 0.105, 'searchtime_q90': 0.179, 'searchtime_q95': 0.21429999999999996}\n",
      "Results for semantic:\n",
      "Primary metric: ndcg@10\n",
      "All results: {'accuracy@1': 0.005405405405405406, 'accuracy@3': 0.010810810810810811, 'accuracy@5': 0.014414414414414415, 'accuracy@10': 0.03423423423423423, 'precision@100': 0.001873873873873874, 'recall@100': 0.1783783783783784, 'mrr@10': 0.011067496067496067, 'ndcg@10': 0.015880720146814072, 'map@100': 0.014732174149470985, 'searchtime_avg': 0.10091711711711712, 'searchtime_q50': 0.101, 'searchtime_q90': 0.17200000000000001, 'searchtime_q95': 0.187}\n",
      "Results for fusion:\n",
      "Primary metric: ndcg@10\n",
      "All results: {'accuracy@1': 0.05945945945945946, 'accuracy@3': 0.2036036036036036, 'accuracy@5': 0.3675675675675676, 'accuracy@10': 0.6126126126126126, 'precision@100': 0.008828828828828829, 'recall@100': 0.8477477477477477, 'mrr@10': 0.18627341627341631, 'ndcg@10': 0.28212616870079066, 'map@100': 0.19933973649590878, 'searchtime_avg': 0.14447207207207208, 'searchtime_q50': 0.145, 'searchtime_q90': 0.227, 'searchtime_q95': 0.24729999999999996}\n"
     ]
    }
   ],
   "source": [
    "from vespa.evaluation import VespaEvaluator\n",
    "\n",
    "test_queries_dict = {\n",
    "    q.query_id: q.text\n",
    "    for q in test_queries.values()\n",
    "}\n",
    "\n",
    "relevant_docs = dict()\n",
    "for qrel in data[\"qrels\"]:\n",
    "    relevant_docs[qrel.query_id] = relevant_docs.get(qrel.query_id, set())\n",
    "    relevant_docs[qrel.query_id].add(qrel.doc_id)\n",
    "\n",
    "def query_fn_for_ranking(ranking: str) -> callable:\n",
    "    def query_fn(query_text: str, top_k: int) -> dict:\n",
    "        return {\n",
    "            \"yql\": f\"select * from sources * where userQuery()\",\n",
    "            \"query\": query_text,\n",
    "            \"hits\": top_k,\n",
    "            \"ranking\": ranking,\n",
    "        }\n",
    "    return query_fn\n",
    "\n",
    "for ranking in [\"bm25\", \"semantic\", \"fusion\"]:\n",
    "    query_fn = query_fn_for_ranking(ranking)\n",
    "    evaluator = VespaEvaluator(\n",
    "        queries=test_queries_dict,\n",
    "        relevant_docs=relevant_docs,\n",
    "        vespa_query_fn=query_fn,\n",
    "        app=app,\n",
    "        name=f\"test-run-{ranking}\",\n",
    "        precision_recall_at_k=[100],\n",
    "        mrr_at_k=[10],\n",
    "        ndcg_at_k=[10],\n",
    "        write_csv=True\n",
    "    )\n",
    "    \n",
    "    results = evaluator.run()\n",
    "    print(f\"Results for {ranking}:\")\n",
    "    print(\"Primary metric:\", evaluator.primary_metric)\n",
    "    print(\"All results:\", results)"
   ]
  },
  {
   "cell_type": "markdown",
   "id": "8e13681e",
   "metadata": {},
   "source": [
    "Remover container"
   ]
  },
  {
   "cell_type": "code",
   "execution_count": 59,
   "id": "92848986",
   "metadata": {},
   "outputs": [],
   "source": [
    "vespa_docker.container.stop()\n",
    "vespa_docker.container.remove()"
   ]
  }
 ],
 "metadata": {
  "kernelspec": {
   "display_name": "Python 3",
   "language": "python",
   "name": "python3"
  },
  "language_info": {
   "codemirror_mode": {
    "name": "ipython",
    "version": 3
   },
   "file_extension": ".py",
   "mimetype": "text/x-python",
   "name": "python",
   "nbconvert_exporter": "python",
   "pygments_lexer": "ipython3",
   "version": "3.12.1"
  }
 },
 "nbformat": 4,
 "nbformat_minor": 5
}
